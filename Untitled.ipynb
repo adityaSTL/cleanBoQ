{
 "cells": [
  {
   "cell_type": "code",
   "execution_count": 13,
   "id": "eb0432a3",
   "metadata": {},
   "outputs": [
    {
     "name": "stdout",
     "output_type": "stream",
     "text": [
      "No file R10_Blowing1\n",
      "No file BLOWING2\n",
      "Something\n",
      "Something\n",
      "0    144F\n",
      "1    144F\n",
      "2    144F\n",
      "3    288F\n",
      "4    288F\n",
      "5     48F\n",
      "Name: size_of_ofc, dtype: object\n"
     ]
    },
    {
     "name": "stderr",
     "output_type": "stream",
     "text": [
      "C:\\Users\\Aditya.gupta\\Documents\\GitHub\\boq\\create_table1.py:415: SettingWithCopyWarning: \n",
      "A value is trying to be set on a copy of a slice from a DataFrame\n",
      "\n",
      "See the caveats in the documentation: https://pandas.pydata.org/pandas-docs/stable/user_guide/indexing.html#returning-a-view-versus-a-copy\n",
      "  blo.rename(columns=columns_,inplace=True)\n"
     ]
    }
   ],
   "source": [
    "import pandas as pd\n",
    "from tkinter import messagebox\n",
    "from extract import Extract\n",
    "from create_table1 import Create_table\n",
    "\n",
    "j=r'C:\\Users\\Aditya.gupta\\Desktop\\Mandal\\KRM-ODE-5036-M-01-GR01-04.xlsx'\n",
    "\n",
    "blo=Extract.extract_blo(j)\n",
    "if len(blo)!=0:\n",
    "        (blo,joint_closer)=Create_table.create_blo(blo)\n",
    "        #joint_closer.to_csv('Joint_closure.csv'\n",
    "\n",
    "if '288' in blo['size_of_ofc']:\n",
    "    print(blo['Total_cable_length'])\n",
    "print(blo['size_of_ofc'])\n",
    "#print(blo.loc['288' in blo['size_of_ofc'],'Total_cable_length'].sum())\n"
   ]
  },
  {
   "cell_type": "code",
   "execution_count": null,
   "id": "53ee8fde",
   "metadata": {},
   "outputs": [],
   "source": []
  }
 ],
 "metadata": {
  "kernelspec": {
   "display_name": "Python 3 (ipykernel)",
   "language": "python",
   "name": "python3"
  },
  "language_info": {
   "codemirror_mode": {
    "name": "ipython",
    "version": 3
   },
   "file_extension": ".py",
   "mimetype": "text/x-python",
   "name": "python",
   "nbconvert_exporter": "python",
   "pygments_lexer": "ipython3",
   "version": "3.10.5"
  }
 },
 "nbformat": 4,
 "nbformat_minor": 5
}
